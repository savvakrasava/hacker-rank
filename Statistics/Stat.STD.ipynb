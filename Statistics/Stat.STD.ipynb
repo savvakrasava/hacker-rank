{
 "cells": [
  {
   "cell_type": "code",
   "execution_count": 2,
   "metadata": {},
   "outputs": [],
   "source": [
    "from math import sqrt\n",
    "\n",
    "def findMean(array):\n",
    "    mean = sum(array)/len(array)\n",
    "    return mean\n",
    "\n",
    "def findSTD(array):\n",
    "    \n",
    "    mean = findMean(array)\n",
    "    N = len(array)\n",
    "    squareDist = []\n",
    "    \n",
    "    for item in range(N):\n",
    "        squareDist.append((array[item]-mean)**2)\n",
    "    std = sqrt(sum(squareDist)/N)\n",
    "    \n",
    "    return round(std,1)"
   ]
  },
  {
   "cell_type": "code",
   "execution_count": 3,
   "metadata": {},
   "outputs": [
    {
     "data": {
      "text/plain": [
       "14.1"
      ]
     },
     "execution_count": 3,
     "metadata": {},
     "output_type": "execute_result"
    }
   ],
   "source": [
    "l = [10, 40, 30, 50, 20]\n",
    "\n",
    "findSTD(l)"
   ]
  },
  {
   "cell_type": "code",
   "execution_count": null,
   "metadata": {},
   "outputs": [],
   "source": []
  }
 ],
 "metadata": {
  "kernelspec": {
   "display_name": "Python 3",
   "language": "python",
   "name": "python3"
  },
  "language_info": {
   "codemirror_mode": {
    "name": "ipython",
    "version": 3
   },
   "file_extension": ".py",
   "mimetype": "text/x-python",
   "name": "python",
   "nbconvert_exporter": "python",
   "pygments_lexer": "ipython3",
   "version": "3.6.7"
  }
 },
 "nbformat": 4,
 "nbformat_minor": 2
}
