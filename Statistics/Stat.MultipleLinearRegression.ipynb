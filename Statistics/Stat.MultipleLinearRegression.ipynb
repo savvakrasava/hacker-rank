{
 "cells": [
  {
   "cell_type": "code",
   "execution_count": 5,
   "metadata": {},
   "outputs": [
    {
     "name": "stdout",
     "output_type": "stream",
     "text": [
      "[[-0.51714286  0.50857143]\n",
      " [ 0.30285714 -0.12142857]\n",
      " [ 0.22285714 -0.27142857]\n",
      " [-0.62714286 -0.01142857]\n",
      " [ 0.15285714 -0.22142857]\n",
      " [ 0.29285714  0.02857143]\n",
      " [ 0.17285714  0.08857143]]\n",
      "[-23.51  22.36   4.3  -57.19   6.39  29.24  18.41]\n",
      "[90.69331739 46.46296549]\n",
      "105.21\n",
      "142.67\n",
      "132.94\n",
      "129.7\n"
     ]
    }
   ],
   "source": [
    "#import data\n",
    "import numpy as np\n",
    "\n",
    "m,n =2, 7 #[int(i) for i in input().strip().split(' ')]\n",
    "X = [[0.18, 0.89], \n",
    "[1.0 ,0.26], \n",
    "[0.92 ,0.11], \n",
    "[0.07 ,0.37], \n",
    "[0.85 ,0.16], \n",
    "[0.99 ,0.41],\n",
    "[0.87 ,0.47] ]\n",
    "Y = [109.85,155.72,137.66,76.17,139.75, 162.6,151.77]\n",
    "#for i in range(n):\n",
    "    #data = input().strip().split(' ')\n",
    "    #X.append(data[:m])\n",
    "    #Y.append(data[m:])\n",
    "q = 4 #int(input().strip())\n",
    "X_new = [[0.49, 0.18],\n",
    "[0.57, 0.83],\n",
    "[0.56, 0.64],\n",
    "[0.76, 0.18]]\n",
    "#for x in range(q):\n",
    "    #X_new.append(input().strip().split(' '))\n",
    "X = np.array(X,float)\n",
    "Y = np.array(Y,float)\n",
    "X_new = np.array(X_new,float)\n",
    "\n",
    "#center\n",
    "X_R = X-np.mean(X,axis=0)\n",
    "Y_R = Y-np.mean(Y)\n",
    "print(X_R)\n",
    "print(Y_R)\n",
    "\n",
    "#calculate beta\n",
    "beta = np.dot(np.linalg.inv(np.dot(X_R.T,X_R)),np.dot(X_R.T,Y_R))\n",
    "print(beta)\n",
    "#predict\n",
    "X_new_R = X_new-np.mean(X,axis=0)\n",
    "Y_new_R = np.dot(X_new_R,beta)\n",
    "Y_new = Y_new_R + np.mean(Y)\n",
    "\n",
    "#print\n",
    "for i in Y_new:\n",
    "    print(round(float(i),2))"
   ]
  },
  {
   "cell_type": "code",
   "execution_count": null,
   "metadata": {},
   "outputs": [],
   "source": []
  }
 ],
 "metadata": {
  "kernelspec": {
   "display_name": "Python 3",
   "language": "python",
   "name": "python3"
  },
  "language_info": {
   "codemirror_mode": {
    "name": "ipython",
    "version": 3
   },
   "file_extension": ".py",
   "mimetype": "text/x-python",
   "name": "python",
   "nbconvert_exporter": "python",
   "pygments_lexer": "ipython3",
   "version": "3.6.7"
  }
 },
 "nbformat": 4,
 "nbformat_minor": 2
}
