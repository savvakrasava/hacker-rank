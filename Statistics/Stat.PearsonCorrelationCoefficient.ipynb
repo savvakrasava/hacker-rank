{
 "cells": [
  {
   "cell_type": "code",
   "execution_count": 58,
   "metadata": {},
   "outputs": [],
   "source": [
    "from math import sqrt\n",
    "\n",
    "def findMean(array):\n",
    "    mean = sum(array)/len(array)\n",
    "    return mean\n",
    "\n",
    "def findSTD(array):\n",
    "    \n",
    "    mean = findMean(array)\n",
    "    N = len(array)\n",
    "    squareDist = []\n",
    "    \n",
    "    for item in range(N):\n",
    "        squareDist.append((array[item]-mean)**2)\n",
    "    std = sqrt(sum(squareDist)/N)\n",
    "    \n",
    "    return std\n",
    "\n",
    "def cov(X,Y):\n",
    "    cov = 0\n",
    "    n = len(X)\n",
    "    meanX = findMean(X)\n",
    "    meanY = findMean(Y)\n",
    "    for item in range(n):\n",
    "        cov+=(X[item]-meanX)*(Y[item]-meanY)\n",
    "    return cov/n\n",
    "\n",
    "def pearsonCorCoef(X,Y):\n",
    "    return cov(X,Y)/(findSTD(X)*findSTD(Y))\n",
    "\n",
    "def get_rank(X, n):\n",
    "    x_rank = dict((x, i+1) for i, x in enumerate(sorted(set(X))))\n",
    "    return [x_rank[x] for x in X]\n",
    "\n",
    "def spearmanRankCorCoef(rx,ry):\n",
    "    d = [(rx[i] -ry[i])**2 for i in range(n)]\n",
    "    return 1 - (6 * sum(d)) / (n * (n*n - 1))\n",
    "\n",
    "def spearman(size, X, Y):\n",
    "    XI=list(X)\n",
    "    YI=list(Y)\n",
    "    XI.sort()\n",
    "    YI.sort()\n",
    "\n",
    "    differences = ([(XI.index(X[i])-YI.index(Y[i]))**2 for i in range(size)])\n",
    "    return 1-6*sum(differences)/(size*(size**2-1))\n",
    "    "
   ]
  },
  {
   "cell_type": "code",
   "execution_count": 59,
   "metadata": {},
   "outputs": [
    {
     "name": "stdout",
     "output_type": "stream",
     "text": [
      "1st challenge: 0.612\n",
      "2nd challenge: 1.0\n",
      "2nd challenge: 1.0\n"
     ]
    }
   ],
   "source": [
    "X = [10, 9.8, 8, 7.8, 7.7, 7, 6, 5, 4, 2]\n",
    "Y = [200, 44, 32, 24, 22, 17, 15, 12, 8, 4]\n",
    "n = len(X)\n",
    "\n",
    "\n",
    "print('1st challenge: '+str(round(pearsonCorCoef(X,Y),3)))\n",
    "\n",
    "rx = get_rank(X, n)\n",
    "ry = get_rank(Y, n)\n",
    "print('2nd challenge: '+str(round(spearman(n, X, Y),3)))\n",
    "print('2nd challenge: '+str(round(spearmanRankCorCoef(rx,ry),3)))"
   ]
  },
  {
   "cell_type": "code",
   "execution_count": null,
   "metadata": {},
   "outputs": [],
   "source": []
  },
  {
   "cell_type": "code",
   "execution_count": null,
   "metadata": {},
   "outputs": [],
   "source": []
  },
  {
   "cell_type": "code",
   "execution_count": null,
   "metadata": {},
   "outputs": [],
   "source": []
  },
  {
   "cell_type": "code",
   "execution_count": null,
   "metadata": {},
   "outputs": [],
   "source": []
  }
 ],
 "metadata": {
  "kernelspec": {
   "display_name": "Python 3",
   "language": "python",
   "name": "python3"
  },
  "language_info": {
   "codemirror_mode": {
    "name": "ipython",
    "version": 3
   },
   "file_extension": ".py",
   "mimetype": "text/x-python",
   "name": "python",
   "nbconvert_exporter": "python",
   "pygments_lexer": "ipython3",
   "version": "3.6.7"
  }
 },
 "nbformat": 4,
 "nbformat_minor": 2
}
