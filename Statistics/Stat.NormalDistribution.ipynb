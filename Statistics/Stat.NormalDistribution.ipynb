{
 "cells": [
  {
   "cell_type": "code",
   "execution_count": 77,
   "metadata": {},
   "outputs": [],
   "source": [
    "from math import pi,e,sqrt, erf\n",
    "\n",
    "def normalDist(mean, var, x):  \n",
    "    equa = 1/(sqrt(var)*sqrt(2*pi))\n",
    "    proba = equa*pow(e,-pow((x-mean),2)/(2*var))\n",
    "    return proba\n",
    "\n",
    "\n",
    "def normalDist1(mean, std, x):\n",
    "    equa = 1/(std*sqrt(2*pi))\n",
    "    proba = equa* pow(e, -pow((x-mean),2)/(2*std*std))\n",
    "    return proba\n",
    "\n",
    "\n",
    "def cumulativeProba(x, mean , std):\n",
    "    return 0.5*(1+erf((x-mean)/(std*sqrt(2))))"
   ]
  },
  {
   "cell_type": "code",
   "execution_count": 105,
   "metadata": {},
   "outputs": [
    {
     "name": "stdout",
     "output_type": "stream",
     "text": [
      "1st challenge : 0.401\n",
      "2nd challenge : 0.341\n"
     ]
    }
   ],
   "source": [
    "mean = 20\n",
    "var = 4\n",
    "std = 2\n",
    "x = 19.5\n",
    "x2 = 22\n",
    "x1 = 20\n",
    "\n",
    "#print(round(normalDist(mean,var, x),3))\n",
    "#print(round(normalDist1(mean,std, x),3))\n",
    "#print(round(sum([normalDist1(mean,std, r) for r in range(20,23)]),3))\n",
    "\n",
    "print('1st challenge : '+str(round(cumulativeProba(x, mean , std),3)))\n",
    "print('2nd challenge : '+str(round(cumulativeProba(x2, mean , std)-cumulativeProba(x1, mean , std),3)))\n",
    "\n",
    "\n",
    "\n",
    "\n"
   ]
  },
  {
   "cell_type": "code",
   "execution_count": 106,
   "metadata": {},
   "outputs": [
    {
     "name": "stdout",
     "output_type": "stream",
     "text": [
      "0.401\n",
      "0.341\n"
     ]
    }
   ],
   "source": [
    "cdf = lambda x: 0.5 * (1 + math.erf((x - mean) / (std * (2 ** 0.5))))\n",
    "\n",
    "# Less than 19.5\n",
    "print('{:.3f}'.format(cdf(19.5)))\n",
    "# Between 20 and 22\n",
    "print('{:.3f}'.format(cdf(22) - cdf(20)))"
   ]
  },
  {
   "cell_type": "code",
   "execution_count": 109,
   "metadata": {},
   "outputs": [
    {
     "name": "stdout",
     "output_type": "stream",
     "text": [
      "1st challenge (%): 15.87\n",
      "2nd challenge (%): 84.13\n",
      "3rd challenge (%): 15.87\n"
     ]
    }
   ],
   "source": [
    "mean = 70\n",
    "std = 10\n",
    "coef1 = 80\n",
    "coef2 = 60\n",
    "\n",
    "\n",
    "print('1st challenge (%): '+str(round(100-cumulativeProba(coef1, mean , std)*100,2)))\n",
    "print('2nd challenge (%): '+str(round(100-cumulativeProba(coef2, mean , std)*100,2)))\n",
    "print('3rd challenge (%): '+str(round(cumulativeProba(coef2, mean , std)*100,2)))\n",
    "\n"
   ]
  },
  {
   "cell_type": "code",
   "execution_count": null,
   "metadata": {},
   "outputs": [],
   "source": []
  },
  {
   "cell_type": "code",
   "execution_count": null,
   "metadata": {},
   "outputs": [],
   "source": []
  }
 ],
 "metadata": {
  "kernelspec": {
   "display_name": "Python 3",
   "language": "python",
   "name": "python3"
  },
  "language_info": {
   "codemirror_mode": {
    "name": "ipython",
    "version": 3
   },
   "file_extension": ".py",
   "mimetype": "text/x-python",
   "name": "python",
   "nbconvert_exporter": "python",
   "pygments_lexer": "ipython3",
   "version": "3.6.6"
  }
 },
 "nbformat": 4,
 "nbformat_minor": 2
}
