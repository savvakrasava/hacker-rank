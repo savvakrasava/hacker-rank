{
 "cells": [
  {
   "cell_type": "code",
   "execution_count": 30,
   "metadata": {},
   "outputs": [
    {
     "name": "stdout",
     "output_type": "stream",
     "text": [
      "26.781\n",
      "0.644\n"
     ]
    }
   ],
   "source": [
    "#Least Square Regression Line\n",
    "\n",
    "from sklearn import linear_model\n",
    "import numpy as np\n",
    "xl = [95,85,80,70,60]\n",
    "x = np.asarray(xl).reshape(-1, 1)\n",
    "y = [85,95,70,65,70]\n",
    "lm = linear_model.LinearRegression()\n",
    "lm.fit(x, y)\n",
    "print(round(lm.intercept_,3))\n",
    "print(round(lm.coef_[0],3))"
   ]
  },
  {
   "cell_type": "code",
   "execution_count": 32,
   "metadata": {},
   "outputs": [
    {
     "name": "stdout",
     "output_type": "stream",
     "text": [
      "26.780821917808225 0.6438356164383561\n",
      "78.288\n"
     ]
    }
   ],
   "source": [
    "from statistics import mean, pstdev\n",
    "\n",
    "\n",
    "def pearson(x, y):\n",
    "    mx, sx, my, sy = mean(x), pstdev(x), mean(y), pstdev(y)\n",
    "    return sum((xi - mx) * (yi - my) for xi, yi in zip(x, y)) / (len(x) * sx * sy)\n",
    "\n",
    "\n",
    "def linear_regression(x, y):\n",
    "    b = pearson(x, y) * pstdev(y) / pstdev(x)\n",
    "    return mean(y) - b * mean(x), b\n",
    "\n",
    "target = 80\n",
    "x =  [95,85,80,70,60]\n",
    "y = [85,95,70,65,70]\n",
    "#zip(*(map(float, input().split()) for _ in range(5)))\n",
    "a, b = linear_regression(x, y)\n",
    "print(a, b)\n",
    "print(round(a+b*target,3))"
   ]
  },
  {
   "cell_type": "code",
   "execution_count": 34,
   "metadata": {},
   "outputs": [
    {
     "name": "stdout",
     "output_type": "stream",
     "text": [
      "51.953488372093 6.651162790697679 -11.16279069767442\n"
     ]
    }
   ],
   "source": [
    "x = [[5, 7], [6, 6], [7, 4], [8, 5], [9, 6]]\n",
    "y = [10, 20, 60, 40, 50]\n",
    "lm = linear_model.LinearRegression()\n",
    "lm.fit(x, y)\n",
    "a = lm.intercept_\n",
    "b = lm.coef_\n",
    "print (a, b[0], b[1])\n"
   ]
  },
  {
   "cell_type": "code",
   "execution_count": null,
   "metadata": {},
   "outputs": [],
   "source": []
  },
  {
   "cell_type": "code",
   "execution_count": null,
   "metadata": {},
   "outputs": [],
   "source": []
  }
 ],
 "metadata": {
  "kernelspec": {
   "display_name": "Python 3",
   "language": "python",
   "name": "python3"
  },
  "language_info": {
   "codemirror_mode": {
    "name": "ipython",
    "version": 3
   },
   "file_extension": ".py",
   "mimetype": "text/x-python",
   "name": "python",
   "nbconvert_exporter": "python",
   "pygments_lexer": "ipython3",
   "version": "3.6.7"
  }
 },
 "nbformat": 4,
 "nbformat_minor": 2
}
