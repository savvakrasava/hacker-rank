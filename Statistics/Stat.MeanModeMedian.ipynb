{
 "cells": [
  {
   "cell_type": "code",
   "execution_count": 1,
   "metadata": {},
   "outputs": [],
   "source": [
    "def findMean(array):\n",
    "    mean = sum(array)/len(array)\n",
    "    return mean\n",
    "\n",
    "def findMode(array):\n",
    "    array = sorted(array)\n",
    "    mode = max(array, key = array.count)\n",
    "    return mode\n",
    "\n",
    "def findMedian(array):\n",
    "    mid = int(len(array)/2)\n",
    "    array = sorted(array)\n",
    "    if len(array)%2 != 0:\n",
    "        median = array[mid]\n",
    "    else:\n",
    "        median = (array[mid]+array[mid-1])/2\n",
    "    return median"
   ]
  },
  {
   "cell_type": "code",
   "execution_count": 2,
   "metadata": {},
   "outputs": [
    {
     "name": "stdout",
     "output_type": "stream",
     "text": [
      "43900.6\n",
      "4978\n",
      "44627.5\n"
     ]
    }
   ],
   "source": [
    "arr = [64630, 11735, 14216, 99233 ,14470 ,4978, 73429 ,38120, 51135 ,67060]\n",
    "\n",
    "print(findMean(arr))\n",
    "print(findMode(arr))\n",
    "print(findMedian(arr))"
   ]
  },
  {
   "cell_type": "code",
   "execution_count": null,
   "metadata": {},
   "outputs": [],
   "source": []
  }
 ],
 "metadata": {
  "kernelspec": {
   "display_name": "Python 3",
   "language": "python",
   "name": "python3"
  },
  "language_info": {
   "codemirror_mode": {
    "name": "ipython",
    "version": 3
   },
   "file_extension": ".py",
   "mimetype": "text/x-python",
   "name": "python",
   "nbconvert_exporter": "python",
   "pygments_lexer": "ipython3",
   "version": "3.6.7"
  }
 },
 "nbformat": 4,
 "nbformat_minor": 2
}
