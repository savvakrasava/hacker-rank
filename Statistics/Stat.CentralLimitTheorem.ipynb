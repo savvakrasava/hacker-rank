{
 "cells": [
  {
   "cell_type": "code",
   "execution_count": 19,
   "metadata": {},
   "outputs": [],
   "source": [
    "from math import e,pi,erf,sqrt\n",
    "\n",
    "def normalDist(mean, std, x):\n",
    "    equa = 1/(std*sqrt(2*pi))\n",
    "    proba = equa* pow(e, -pow((x-mean),2)/(2*std*std))\n",
    "    return proba\n",
    "\n",
    "def cumulativeProba(x, mean , std):\n",
    "    return 0.5*(1+erf((x-mean)/(std*sqrt(2))))\n",
    "\n",
    "\n",
    "def CLT():\n",
    "    return\n",
    "\n"
   ]
  },
  {
   "cell_type": "code",
   "execution_count": 20,
   "metadata": {},
   "outputs": [],
   "source": [
    "maxima = 9800\n",
    "boxes = 49\n",
    "mean = 205\n",
    "std = 15"
   ]
  },
  {
   "cell_type": "code",
   "execution_count": 21,
   "metadata": {},
   "outputs": [
    {
     "data": {
      "text/plain": [
       "0.0"
      ]
     },
     "execution_count": 21,
     "metadata": {},
     "output_type": "execute_result"
    }
   ],
   "source": [
    "round(sum([cumulativeProba(r,mean,std) for r in range(1,boxes)]),4)"
   ]
  },
  {
   "cell_type": "code",
   "execution_count": 22,
   "metadata": {},
   "outputs": [
    {
     "name": "stdout",
     "output_type": "stream",
     "text": [
      "0.0098\n",
      "1.0\n"
     ]
    }
   ],
   "source": [
    "import math\n",
    "weight=9800#int(input())\n",
    "amount=49#int(input())\n",
    "mu=205#int(input())\n",
    "sd=15#int(input())\n",
    "print(round(1/2*(1+math.erf((weight-mu*amount)/(sd*math.sqrt(amount)*math.sqrt(2)))),4))\n",
    "print(cumulativeProba(weight,mu,sd))"
   ]
  },
  {
   "cell_type": "code",
   "execution_count": null,
   "metadata": {},
   "outputs": [],
   "source": []
  },
  {
   "cell_type": "code",
   "execution_count": null,
   "metadata": {},
   "outputs": [],
   "source": []
  }
 ],
 "metadata": {
  "kernelspec": {
   "display_name": "Python 3",
   "language": "python",
   "name": "python3"
  },
  "language_info": {
   "codemirror_mode": {
    "name": "ipython",
    "version": 3
   },
   "file_extension": ".py",
   "mimetype": "text/x-python",
   "name": "python",
   "nbconvert_exporter": "python",
   "pygments_lexer": "ipython3",
   "version": "3.6.6"
  }
 },
 "nbformat": 4,
 "nbformat_minor": 2
}
