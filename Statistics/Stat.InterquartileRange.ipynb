{
 "cells": [
  {
   "cell_type": "code",
   "execution_count": 1,
   "metadata": {},
   "outputs": [],
   "source": [
    "def findLightMedian(array):\n",
    "    mid = int(len(array)/2)\n",
    "    #array = sorted(array)\n",
    "    if len(array)%2 != 0:\n",
    "        median = array[mid]\n",
    "    else:\n",
    "        median = (array[mid]+array[mid-1])/2\n",
    "    return median\n",
    "\n",
    "def findQuartiles(array):    \n",
    "    \n",
    "    array = sorted(array)\n",
    "    mid = int(len(array)/2)\n",
    "    \n",
    "    if len(array)%2 != 0:\n",
    "        firstQuart = findLightMedian(array[0:mid])\n",
    "        secondQuart = array[mid]\n",
    "        thirdQuart = findLightMedian(array[mid+1::])\n",
    "        return firstQuart, secondQuart, thirdQuart\n",
    "    else:\n",
    "        firstQuart = findLightMedian(array[0:mid])\n",
    "        secondQuart = findLightMedian(array)\n",
    "        thirdQuart = findLightMedian(array[mid::])\n",
    "        return firstQuart, secondQuart, thirdQuart\n",
    "        \n",
    "\n",
    "def findInterquartileRange(X,F):\n",
    "    S = []\n",
    "    Quart = []\n",
    "    \n",
    "    for item in range(len(X)):\n",
    "        S.extend([X[item]]*F[item])\n",
    "    Quart = findQuartiles(S)\n",
    "    \n",
    "    return Quart[2]-Quart[0]"
   ]
  },
  {
   "cell_type": "code",
   "execution_count": 2,
   "metadata": {},
   "outputs": [
    {
     "data": {
      "text/plain": [
       "9.0"
      ]
     },
     "execution_count": 2,
     "metadata": {},
     "output_type": "execute_result"
    }
   ],
   "source": [
    "X = (6, 12, 8, 10, 20, 16)\n",
    "F = (5, 4, 3, 2, 1, 5)\n",
    "\n",
    "findInterquartileRange(X,F)"
   ]
  },
  {
   "cell_type": "code",
   "execution_count": null,
   "metadata": {},
   "outputs": [],
   "source": []
  }
 ],
 "metadata": {
  "kernelspec": {
   "display_name": "Python 3",
   "language": "python",
   "name": "python3"
  },
  "language_info": {
   "codemirror_mode": {
    "name": "ipython",
    "version": 3
   },
   "file_extension": ".py",
   "mimetype": "text/x-python",
   "name": "python",
   "nbconvert_exporter": "python",
   "pygments_lexer": "ipython3",
   "version": "3.6.7"
  }
 },
 "nbformat": 4,
 "nbformat_minor": 2
}
