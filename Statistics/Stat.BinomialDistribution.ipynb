{
 "cells": [
  {
   "cell_type": "code",
   "execution_count": 40,
   "metadata": {},
   "outputs": [
    {
     "name": "stdout",
     "output_type": "stream",
     "text": [
      "1st challenge = 0.696\n",
      "\n",
      "2nd challenge = 0.891\n",
      "2nd challenge = 0.342\n",
      "\n",
      "3rd challenge = 0.066\n",
      "\n",
      "4th challenge = 0.868\n"
     ]
    }
   ],
   "source": [
    "#l, r = list(map(float, input().split(\" \")))\n",
    "l = 1.09\n",
    "r = 1\n",
    "n = 6\n",
    "\n",
    "odds = l / r\n",
    "\n",
    "def factorial(n):\n",
    "    if n == 0:\n",
    "        return 1\n",
    "    else:\n",
    "        return n*factorial(n-1)\n",
    "    \n",
    "def comb(n,x):\n",
    "    return factorial(n) / (factorial(x)*factorial(n-x))\n",
    "        \n",
    "def binDist(x, n, p):\n",
    "    return comb(n, x) * p**x * (1-p)**(n-x)\n",
    "\n",
    "def negBinDist(x, n, p):\n",
    "    x = x-1\n",
    "    n = n-1\n",
    "    return comb(n, x) * p**x * (1-p)**(n-x)\n",
    "\n",
    "def geomDist(n,p):\n",
    "    q = 1-p\n",
    "    return pow(q,n-1)*p\n",
    "\n",
    "\n",
    "print ('1st challenge = '+str(round(sum([binDist(i, n, odds / (1 + odds)) for i in range(3, 7)]), 3))+'\\n')\n",
    "\n",
    "p = 12\n",
    "q = 1-p\n",
    "n = 10\n",
    "\n",
    "print ('2nd challenge = '+str(round(sum([b(i, n, p/100) for i in range(3)]), 3)))\n",
    "print ('2nd challenge = '+str(round(sum([b(i, n, p/100) for i in range(2, n+1)]), 3))+'\\n')\n",
    "\n",
    "n = 5\n",
    "p = 1/3\n",
    "\n",
    "\n",
    "print ('3rd challenge = '+str(round(geomDist(n,p),3))+'\\n')\n",
    "\n",
    "defectProba = 1/3\n",
    "okProba = 1-defectProba\n",
    "inspections = 5\n",
    "\n",
    "\n",
    "print ('4th challenge = '+str(round(sum([geomDist(i,defectProba) for i in range(1,inspections+1)]),3)))"
   ]
  },
  {
   "cell_type": "code",
   "execution_count": null,
   "metadata": {},
   "outputs": [],
   "source": []
  },
  {
   "cell_type": "code",
   "execution_count": null,
   "metadata": {},
   "outputs": [],
   "source": []
  }
 ],
 "metadata": {
  "kernelspec": {
   "display_name": "Python 3",
   "language": "python",
   "name": "python3"
  },
  "language_info": {
   "codemirror_mode": {
    "name": "ipython",
    "version": 3
   },
   "file_extension": ".py",
   "mimetype": "text/x-python",
   "name": "python",
   "nbconvert_exporter": "python",
   "pygments_lexer": "ipython3",
   "version": "3.6.7"
  }
 },
 "nbformat": 4,
 "nbformat_minor": 2
}
