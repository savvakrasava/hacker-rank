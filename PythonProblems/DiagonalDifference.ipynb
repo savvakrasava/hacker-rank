{
 "cells": [
  {
   "cell_type": "code",
   "execution_count": 1,
   "metadata": {},
   "outputs": [
    {
     "data": {
      "text/plain": [
       "15"
      ]
     },
     "execution_count": 1,
     "metadata": {},
     "output_type": "execute_result"
    }
   ],
   "source": [
    "#!/bin/python3\n",
    "\n",
    "import math\n",
    "import os\n",
    "import random\n",
    "import re\n",
    "import sys\n",
    "\n",
    "# Complete the diagonalDifference function below.\n",
    "def diagonalDifference(arr):\n",
    "    size = len(arr[0])\n",
    "    if size == 1:\n",
    "        return arr[0][0]*2\n",
    "    diag_sum1 = 0\n",
    "    diag_sum2 = 0\n",
    "\n",
    "    for i in range(size):\n",
    "        diag_sum1 += arr[i][i]\n",
    "        diag_sum2 += arr[i][size-i-1]\n",
    "    return abs(diag_sum1-diag_sum2)\n",
    "\n",
    "\n",
    "# if __name__ == '__main__':\n",
    "#     fptr = open(os.environ['OUTPUT_PATH'], 'w')\n",
    "\n",
    "#     n = int(input())\n",
    "\n",
    "#     arr = []\n",
    "\n",
    "#     for _ in range(n):\n",
    "#         arr.append(list(map(int, input().rstrip().split())))\n",
    "\n",
    "#     result = diagonalDifference(arr)\n",
    "\n",
    "#     fptr.write(str(result) + '\\n')\n",
    "\n",
    "#     fptr.close()\n",
    "\n",
    "\n",
    "array = [[11, 2, 4],\n",
    "[4, 5, 6],\n",
    "[10, 8, -12]]\n",
    "\n",
    "diagonalDifference(array)\n"
   ]
  },
  {
   "cell_type": "code",
   "execution_count": null,
   "metadata": {},
   "outputs": [],
   "source": []
  }
 ],
 "metadata": {
  "kernelspec": {
   "display_name": "Python 3",
   "language": "python",
   "name": "python3"
  },
  "language_info": {
   "codemirror_mode": {
    "name": "ipython",
    "version": 3
   },
   "file_extension": ".py",
   "mimetype": "text/x-python",
   "name": "python",
   "nbconvert_exporter": "python",
   "pygments_lexer": "ipython3",
   "version": "3.6.7"
  }
 },
 "nbformat": 4,
 "nbformat_minor": 2
}
