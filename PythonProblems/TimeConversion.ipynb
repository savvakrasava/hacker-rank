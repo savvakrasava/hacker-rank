{
 "cells": [
  {
   "cell_type": "code",
   "execution_count": 1,
   "metadata": {},
   "outputs": [
    {
     "data": {
      "text/plain": [
       "'19:05:45'"
      ]
     },
     "execution_count": 1,
     "metadata": {},
     "output_type": "execute_result"
    }
   ],
   "source": [
    "#!/bin/python3\n",
    "\n",
    "import os\n",
    "import sys\n",
    "\n",
    "#\n",
    "# Complete the timeConversion function below.\n",
    "#\n",
    "def timeConversion(s):    \n",
    "    \n",
    "    hh=s[0:2]\n",
    "    mi=s[3:5]\n",
    "    ss=s[-4:-2]\n",
    "    flg = s[-2:]\n",
    "    hours = 0\n",
    "    if int(hh) > 24 or int(mi)>59 or int(ss)>59:\n",
    "        return None\n",
    "    if flg == 'AM' and hh == '12':\n",
    "        return '00'+':'+mi+':'+ss\n",
    "    elif flg == 'PM' and hh == '12':\n",
    "        return '12'+':'+mi+':'+ss\n",
    "    elif flg == 'AM':\n",
    "        return str(hh)+':'+mi+':'+ss\n",
    "    else:\n",
    "        hours = int(hh)+12\n",
    "        return str(hours)+':'+mi+':'+ss\n",
    "\n",
    "\n",
    "\n",
    "# if __name__ == '__main__':\n",
    "#     f = open(os.environ['OUTPUT_PATH'], 'w')\n",
    "\n",
    "#     s = input()\n",
    "\n",
    "#     result = timeConversion(s)\n",
    "\n",
    "#     f.write(result + '\\n')\n",
    "\n",
    "#     f.close()\n",
    "\n",
    "time = '07:05:45PM'\n",
    "\n",
    "timeConversion(time)\n"
   ]
  },
  {
   "cell_type": "code",
   "execution_count": null,
   "metadata": {},
   "outputs": [],
   "source": []
  }
 ],
 "metadata": {
  "kernelspec": {
   "display_name": "Python 3",
   "language": "python",
   "name": "python3"
  },
  "language_info": {
   "codemirror_mode": {
    "name": "ipython",
    "version": 3
   },
   "file_extension": ".py",
   "mimetype": "text/x-python",
   "name": "python",
   "nbconvert_exporter": "python",
   "pygments_lexer": "ipython3",
   "version": "3.6.7"
  }
 },
 "nbformat": 4,
 "nbformat_minor": 2
}
