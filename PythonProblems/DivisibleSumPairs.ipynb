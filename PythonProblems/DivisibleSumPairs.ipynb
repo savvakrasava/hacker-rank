{
 "cells": [
  {
   "cell_type": "code",
   "execution_count": 1,
   "metadata": {},
   "outputs": [
    {
     "data": {
      "text/plain": [
       "5"
      ]
     },
     "execution_count": 1,
     "metadata": {},
     "output_type": "execute_result"
    }
   ],
   "source": [
    "#!/bin/python3\n",
    "\n",
    "import math\n",
    "import os\n",
    "import random\n",
    "import re\n",
    "import sys\n",
    "\n",
    "# Complete the divisibleSumPairs function below.\n",
    "def divisibleSumPairs(n, k, array):\n",
    "    count = 0\n",
    "    for i in range(n):\n",
    "        for j in range(n):\n",
    "            if i!=j and (array[i]+array[j])%k==0:\n",
    "                count += 1\n",
    "    return int(count/2)\n",
    "\n",
    "# if __name__ == '__main__':\n",
    "#     fptr = open(os.environ['OUTPUT_PATH'], 'w')\n",
    "\n",
    "#     nk = input().split()\n",
    "\n",
    "#     n = int(nk[0])\n",
    "\n",
    "#     k = int(nk[1])\n",
    "\n",
    "#     ar = list(map(int, input().rstrip().split()))\n",
    "\n",
    "#     result = divisibleSumPairs(n, k, ar)\n",
    "\n",
    "#     fptr.write(str(result) + '\\n')\n",
    "\n",
    "#     fptr.close()\n",
    "\n",
    "n = 6\n",
    "k = 3\n",
    "arr = [1, 3, 2, 6, 1, 2]\n",
    "\n",
    "divisibleSumPairs(n, k, arr)"
   ]
  },
  {
   "cell_type": "code",
   "execution_count": 2,
   "metadata": {},
   "outputs": [
    {
     "data": {
      "text/plain": [
       "5"
      ]
     },
     "execution_count": 2,
     "metadata": {},
     "output_type": "execute_result"
    }
   ],
   "source": [
    "def divisibleSumPairs1(n, k, a):\n",
    "    \n",
    "    mods = [0] * k\n",
    "    for i in range(n):\n",
    "        mods[a[i] % k] += 1 \n",
    "\n",
    "    count = 0\n",
    "    for i in range(int(k/2) + 1):\n",
    "        if i == 0:\n",
    "            count += int(mods[0] * (mods[0] - 1) / 2)\n",
    "        elif float(i) == (k/2):\n",
    "            count += int(mods[int(k/2)] * (mods[int(k/2)] - 1) / 2)\n",
    "        else:\n",
    "            count += int(mods[i] * mods[k-i])\n",
    "    return count\n",
    "\n",
    "divisibleSumPairs1(n, k, arr)"
   ]
  },
  {
   "cell_type": "code",
   "execution_count": null,
   "metadata": {},
   "outputs": [],
   "source": []
  }
 ],
 "metadata": {
  "kernelspec": {
   "display_name": "Python 3",
   "language": "python",
   "name": "python3"
  },
  "language_info": {
   "codemirror_mode": {
    "name": "ipython",
    "version": 3
   },
   "file_extension": ".py",
   "mimetype": "text/x-python",
   "name": "python",
   "nbconvert_exporter": "python",
   "pygments_lexer": "ipython3",
   "version": "3.6.7"
  }
 },
 "nbformat": 4,
 "nbformat_minor": 2
}
