{
 "cells": [
  {
   "cell_type": "code",
   "execution_count": 5,
   "metadata": {},
   "outputs": [
    {
     "name": "stdout",
     "output_type": "stream",
     "text": [
      "---------------.|.---------------\n",
      "------------.|..|..|.------------\n",
      "---------.|..|..|..|..|.---------\n",
      "------.|..|..|..|..|..|..|.------\n",
      "---.|..|..|..|..|..|..|..|..|.---\n",
      "--------FUCK THIS STRINGS--------\n",
      "---.|..|..|..|..|..|..|..|..|.---\n",
      "------.|..|..|..|..|..|..|.------\n",
      "---------.|..|..|..|..|.---------\n",
      "------------.|..|..|.------------\n",
      "---------------.|.---------------\n"
     ]
    }
   ],
   "source": [
    "# Enter your code here. Read input from STDIN. Print output to STDOUT\n",
    "#M = list(map(int, input().rstrip().split()))\n",
    "#N = int(input())\n",
    "\n",
    "M = [11, 33]\n",
    "\n",
    "#ljust, rjust, center\n",
    "\n",
    "def DesignerDooMat(M):\n",
    "    \n",
    "    sign1 = '-'\n",
    "    sign2 = '.|.'\n",
    "    mySign = 'FUCK THIS STRINGS'\n",
    "    \n",
    "    m = int(M[1])\n",
    "    n = int(M[0])\n",
    "    pattern = [(sign2*(2*i + 1)).center(m, sign1) for i in range(n//2)]    \n",
    "    print('\\n'.join(pattern + [mySign.center(m, '-')] + pattern[::-1]))\n",
    "\n",
    "DesignerDooMat(M)"
   ]
  },
  {
   "cell_type": "code",
   "execution_count": null,
   "metadata": {},
   "outputs": [],
   "source": []
  }
 ],
 "metadata": {
  "kernelspec": {
   "display_name": "Python 3",
   "language": "python",
   "name": "python3"
  },
  "language_info": {
   "codemirror_mode": {
    "name": "ipython",
    "version": 3
   },
   "file_extension": ".py",
   "mimetype": "text/x-python",
   "name": "python",
   "nbconvert_exporter": "python",
   "pygments_lexer": "ipython3",
   "version": "3.6.7"
  }
 },
 "nbformat": 4,
 "nbformat_minor": 2
}
