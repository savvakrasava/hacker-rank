{
 "cells": [
  {
   "cell_type": "code",
   "execution_count": 1,
   "metadata": {},
   "outputs": [
    {
     "data": {
      "text/plain": [
       "(1, 1)"
      ]
     },
     "execution_count": 1,
     "metadata": {},
     "output_type": "execute_result"
    }
   ],
   "source": [
    "#!/bin/python3\n",
    "\n",
    "import math\n",
    "import os\n",
    "import random\n",
    "import re\n",
    "import sys\n",
    "\n",
    "# Complete the compareTriplets function below.\n",
    "def compareTriplets(a, b):\n",
    "    A=0\n",
    "    B=0\n",
    "    if a[1]>b[1]:\n",
    "        A += 1\n",
    "    if a[1]<b[1]:\n",
    "        B += 1\n",
    "    if a[2]>b[2]:\n",
    "        A += 1\n",
    "    if a[2]<b[2]:\n",
    "        B += 1\n",
    "    if a[0]>b[0]:\n",
    "        A += 1\n",
    "    if a[0]<b[0]:\n",
    "        B += 1\n",
    "    return (A,B)\n",
    "\n",
    "# if __name__ == '__main__':\n",
    "#     fptr = open(os.environ['OUTPUT_PATH'], 'w')\n",
    "\n",
    "#     a = list(map(int, input().rstrip().split()))\n",
    "\n",
    "#     b = list(map(int, input().rstrip().split()))\n",
    "\n",
    "#     result = compareTriplets(a, b)\n",
    "\n",
    "#     fptr.write(' '.join(map(str, result)))\n",
    "#     fptr.write('\\n')\n",
    "\n",
    "#     fptr.close()\n",
    "\n",
    "\n",
    "a = [5, 6, 7]\n",
    "b = [3, 6, 10]\n",
    "\n",
    "compareTriplets(a,b)"
   ]
  },
  {
   "cell_type": "code",
   "execution_count": null,
   "metadata": {},
   "outputs": [],
   "source": []
  }
 ],
 "metadata": {
  "kernelspec": {
   "display_name": "Python 3",
   "language": "python",
   "name": "python3"
  },
  "language_info": {
   "codemirror_mode": {
    "name": "ipython",
    "version": 3
   },
   "file_extension": ".py",
   "mimetype": "text/x-python",
   "name": "python",
   "nbconvert_exporter": "python",
   "pygments_lexer": "ipython3",
   "version": "3.6.7"
  }
 },
 "nbformat": 4,
 "nbformat_minor": 2
}
