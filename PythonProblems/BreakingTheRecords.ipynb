{
 "cells": [
  {
   "cell_type": "code",
   "execution_count": 1,
   "metadata": {},
   "outputs": [
    {
     "data": {
      "text/plain": [
       "(2, 4)"
      ]
     },
     "execution_count": 1,
     "metadata": {},
     "output_type": "execute_result"
    }
   ],
   "source": [
    "#!/bin/python3\n",
    "\n",
    "import math\n",
    "import os\n",
    "import random\n",
    "import re\n",
    "import sys\n",
    "\n",
    "# Complete the breakingRecords function below.\n",
    "def breakingRecords(array):\n",
    "    session_min = array[0]\n",
    "    session_max = array[0]\n",
    "    max_counter = 0\n",
    "    min_counter = 0\n",
    "    \n",
    "    for item in range(len(array)):\n",
    "        if array[item]< session_min:\n",
    "            session_min = array[item]\n",
    "            min_counter += 1\n",
    "        \n",
    "        if array[item]>session_max:\n",
    "            session_max = array[item]\n",
    "            max_counter +=1\n",
    "            \n",
    "    return (max_counter, min_counter)\n",
    "\n",
    "# if __name__ == '__main__':\n",
    "#     fptr = open(os.environ['OUTPUT_PATH'], 'w')\n",
    "\n",
    "#     n = int(input())\n",
    "\n",
    "#     scores = list(map(int, input().rstrip().split()))\n",
    "\n",
    "#     result = breakingRecords(scores)\n",
    "\n",
    "#     fptr.write(' '.join(map(str, result)))\n",
    "#     fptr.write('\\n')\n",
    "\n",
    "#     fptr.close()\n",
    "\n",
    "\n",
    "arr = [10, 5, 20, 20, 4, 5, 2, 25, 1]\n",
    "\n",
    "breakingRecords(arr)"
   ]
  },
  {
   "cell_type": "code",
   "execution_count": null,
   "metadata": {},
   "outputs": [],
   "source": []
  }
 ],
 "metadata": {
  "kernelspec": {
   "display_name": "Python 3",
   "language": "python",
   "name": "python3"
  },
  "language_info": {
   "codemirror_mode": {
    "name": "ipython",
    "version": 3
   },
   "file_extension": ".py",
   "mimetype": "text/x-python",
   "name": "python",
   "nbconvert_exporter": "python",
   "pygments_lexer": "ipython3",
   "version": "3.6.7"
  }
 },
 "nbformat": 4,
 "nbformat_minor": 2
}
