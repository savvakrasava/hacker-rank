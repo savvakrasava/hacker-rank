{
 "cells": [
  {
   "cell_type": "code",
   "execution_count": 2,
   "metadata": {},
   "outputs": [
    {
     "data": {
      "text/plain": [
       "21"
      ]
     },
     "execution_count": 2,
     "metadata": {},
     "output_type": "execute_result"
    }
   ],
   "source": [
    "l = 'mamama'\n",
    "\n",
    "from collections import Counter\n",
    "from itertools import combinations\n",
    "\n",
    "def sherlockAndAnagrams(s):\n",
    "    count = []\n",
    "    for i in range(1,len(s)+1):\n",
    "        a = [\"\".join(sorted(s[j:j+i])) for j in range(len(s)-i+1)]\n",
    "        #print('1:'+str(a))\n",
    "        b = Counter(a)\n",
    "        #rint('2:'+str(b))\n",
    "        count.append(sum([len(list(combinations(['a']*b[j],2))) for j in b]))\n",
    "        #rint('3:'+str((sum([len(list(combinations(['a']*b[j],2))) for j in b]))))\n",
    "    return sum(count)\n",
    "\n",
    "\n",
    "sherlockAndAnagrams(l)"
   ]
  },
  {
   "cell_type": "code",
   "execution_count": null,
   "metadata": {},
   "outputs": [],
   "source": []
  }
 ],
 "metadata": {
  "kernelspec": {
   "display_name": "Python 3",
   "language": "python",
   "name": "python3"
  },
  "language_info": {
   "codemirror_mode": {
    "name": "ipython",
    "version": 3
   },
   "file_extension": ".py",
   "mimetype": "text/x-python",
   "name": "python",
   "nbconvert_exporter": "python",
   "pygments_lexer": "ipython3",
   "version": "3.6.7"
  }
 },
 "nbformat": 4,
 "nbformat_minor": 2
}
