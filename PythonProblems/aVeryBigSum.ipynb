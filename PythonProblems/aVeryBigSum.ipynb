{
 "cells": [
  {
   "cell_type": "code",
   "execution_count": 1,
   "metadata": {},
   "outputs": [
    {
     "data": {
      "text/plain": [
       "21"
      ]
     },
     "execution_count": 1,
     "metadata": {},
     "output_type": "execute_result"
    }
   ],
   "source": [
    "#!/bin/python3\n",
    "\n",
    "import math\n",
    "import os\n",
    "import random\n",
    "import re\n",
    "import sys\n",
    "\n",
    "# Complete the aVeryBigSum function below.\n",
    "def aVeryBigSum(ar):\n",
    "    return sum(ar)\n",
    "\n",
    "# if __name__ == '__main__':\n",
    "#     fptr = open(os.environ['OUTPUT_PATH'], 'w')\n",
    "\n",
    "#     ar_count = int(input())\n",
    "\n",
    "#     ar = list(map(int, input().rstrip().split()))\n",
    "\n",
    "#     result = aVeryBigSum(ar)\n",
    "\n",
    "#     fptr.write(str(result) + '\\n')\n",
    "\n",
    "#     fptr.close()\n",
    "\n",
    "array =[0,2,3,5,1,2,6,2]\n",
    "\n",
    "aVeryBigSum(array)"
   ]
  },
  {
   "cell_type": "code",
   "execution_count": null,
   "metadata": {},
   "outputs": [],
   "source": []
  }
 ],
 "metadata": {
  "kernelspec": {
   "display_name": "Python 3",
   "language": "python",
   "name": "python3"
  },
  "language_info": {
   "codemirror_mode": {
    "name": "ipython",
    "version": 3
   },
   "file_extension": ".py",
   "mimetype": "text/x-python",
   "name": "python",
   "nbconvert_exporter": "python",
   "pygments_lexer": "ipython3",
   "version": "3.6.7"
  }
 },
 "nbformat": 4,
 "nbformat_minor": 2
}
