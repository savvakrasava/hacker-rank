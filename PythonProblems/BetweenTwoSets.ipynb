{
 "cells": [
  {
   "cell_type": "code",
   "execution_count": 1,
   "metadata": {},
   "outputs": [
    {
     "data": {
      "text/plain": [
       "3"
      ]
     },
     "execution_count": 1,
     "metadata": {},
     "output_type": "execute_result"
    }
   ],
   "source": [
    "#!/bin/python3\n",
    "\n",
    "import os\n",
    "import sys\n",
    "\n",
    "#\n",
    "# Complete the getTotalX function below.\n",
    "#\n",
    "def getTotalX(a, b):\n",
    "    nmax,nmin,count = max(a),min(b),0\n",
    "    for i in range(1,int(nmin/nmax)+1):\n",
    "        if(sum((i*nmax)%n for n in a)+sum(n%(i*nmax) for n in b))==0:\n",
    "            count+=1\n",
    "    return count\n",
    "\n",
    "# if __name__ == '__main__':\n",
    "#     f = open(os.environ['OUTPUT_PATH'], 'w')\n",
    "\n",
    "#     nm = input().split()\n",
    "\n",
    "#     n = int(nm[0])\n",
    "\n",
    "#     m = int(nm[1])\n",
    "\n",
    "#     a = list(map(int, input().rstrip().split()))\n",
    "\n",
    "#     b = list(map(int, input().rstrip().split()))\n",
    "\n",
    "#     total = getTotalX(a, b)\n",
    "\n",
    "#     f.write(str(total) + '\\n')\n",
    "\n",
    "#     f.close()\n",
    "\n",
    "\n",
    "a = [2,4]\n",
    "b = [16,32,96]\n",
    "\n",
    "\n",
    "getTotalX(a,b)"
   ]
  },
  {
   "cell_type": "code",
   "execution_count": null,
   "metadata": {},
   "outputs": [],
   "source": []
  }
 ],
 "metadata": {
  "kernelspec": {
   "display_name": "Python 3",
   "language": "python",
   "name": "python3"
  },
  "language_info": {
   "codemirror_mode": {
    "name": "ipython",
    "version": 3
   },
   "file_extension": ".py",
   "mimetype": "text/x-python",
   "name": "python",
   "nbconvert_exporter": "python",
   "pygments_lexer": "ipython3",
   "version": "3.6.7"
  }
 },
 "nbformat": 4,
 "nbformat_minor": 2
}
