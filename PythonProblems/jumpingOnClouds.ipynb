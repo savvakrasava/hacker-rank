{
 "cells": [
  {
   "cell_type": "code",
   "execution_count": 2,
   "metadata": {},
   "outputs": [
    {
     "data": {
      "text/plain": [
       "4"
      ]
     },
     "execution_count": 2,
     "metadata": {},
     "output_type": "execute_result"
    }
   ],
   "source": [
    "#!/bin/python3\n",
    "\n",
    "import math\n",
    "import os\n",
    "import random\n",
    "import re\n",
    "import sys\n",
    "\n",
    "def jumpingOnClouds(array):\n",
    "    \n",
    "    step = 1\n",
    "    max_step = 2\n",
    "    count = 0\n",
    "    item = 0\n",
    "    \n",
    "    while item < len(array):\n",
    "        #print(item)\n",
    "        if (item<len(array)-step) and(array[item+step]==1):\n",
    "            item += max_step\n",
    "            count += 1 \n",
    "           \n",
    "        elif (item<len(array)-max_step) and (array[item+max_step]==0):\n",
    "            count += 1\n",
    "            item += max_step\n",
    "        else:\n",
    "            count += 1\n",
    "            item += step\n",
    "   \n",
    "    return count-1\n",
    "\n",
    "\n",
    "\n",
    "# if __name__ == '__main__':\n",
    "#     fptr = open(os.environ['OUTPUT_PATH'], 'w')\n",
    "\n",
    "#     n = int(input())\n",
    "\n",
    "#     c = list(map(int, input().rstrip().split()))\n",
    "\n",
    "#     result = jumpingOnClouds(c)\n",
    "\n",
    "#     fptr.write(str(result) + '\\n')\n",
    "\n",
    "#     fptr.close()\n",
    "\n",
    "\n",
    "arr = [0, 0, 1, 0, 0, 1, 0]\n",
    "\n",
    "jumpingOnClouds(arr)"
   ]
  },
  {
   "cell_type": "code",
   "execution_count": null,
   "metadata": {},
   "outputs": [],
   "source": []
  }
 ],
 "metadata": {
  "kernelspec": {
   "display_name": "Python 3",
   "language": "python",
   "name": "python3"
  },
  "language_info": {
   "codemirror_mode": {
    "name": "ipython",
    "version": 3
   },
   "file_extension": ".py",
   "mimetype": "text/x-python",
   "name": "python",
   "nbconvert_exporter": "python",
   "pygments_lexer": "ipython3",
   "version": "3.6.7"
  }
 },
 "nbformat": 4,
 "nbformat_minor": 2
}
