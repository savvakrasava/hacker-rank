{
 "cells": [
  {
   "cell_type": "code",
   "execution_count": 8,
   "metadata": {},
   "outputs": [
    {
     "name": "stdout",
     "output_type": "stream",
     "text": [
      "--------------------------------------------w--------------------------------------------\n",
      "------------------------------------------w-v-w------------------------------------------\n",
      "----------------------------------------w-v-u-v-w----------------------------------------\n",
      "--------------------------------------w-v-u-t-u-v-w--------------------------------------\n",
      "------------------------------------w-v-u-t-s-t-u-v-w------------------------------------\n",
      "----------------------------------w-v-u-t-s-r-s-t-u-v-w----------------------------------\n",
      "--------------------------------w-v-u-t-s-r-q-r-s-t-u-v-w--------------------------------\n",
      "------------------------------w-v-u-t-s-r-q-p-q-r-s-t-u-v-w------------------------------\n",
      "----------------------------w-v-u-t-s-r-q-p-o-p-q-r-s-t-u-v-w----------------------------\n",
      "--------------------------w-v-u-t-s-r-q-p-o-n-o-p-q-r-s-t-u-v-w--------------------------\n",
      "------------------------w-v-u-t-s-r-q-p-o-n-m-n-o-p-q-r-s-t-u-v-w------------------------\n",
      "----------------------w-v-u-t-s-r-q-p-o-n-m-l-m-n-o-p-q-r-s-t-u-v-w----------------------\n",
      "--------------------w-v-u-t-s-r-q-p-o-n-m-l-k-l-m-n-o-p-q-r-s-t-u-v-w--------------------\n",
      "------------------w-v-u-t-s-r-q-p-o-n-m-l-k-j-k-l-m-n-o-p-q-r-s-t-u-v-w------------------\n",
      "----------------w-v-u-t-s-r-q-p-o-n-m-l-k-j-i-j-k-l-m-n-o-p-q-r-s-t-u-v-w----------------\n",
      "--------------w-v-u-t-s-r-q-p-o-n-m-l-k-j-i-h-i-j-k-l-m-n-o-p-q-r-s-t-u-v-w--------------\n",
      "------------w-v-u-t-s-r-q-p-o-n-m-l-k-j-i-h-g-h-i-j-k-l-m-n-o-p-q-r-s-t-u-v-w------------\n",
      "----------w-v-u-t-s-r-q-p-o-n-m-l-k-j-i-h-g-f-g-h-i-j-k-l-m-n-o-p-q-r-s-t-u-v-w----------\n",
      "--------w-v-u-t-s-r-q-p-o-n-m-l-k-j-i-h-g-f-e-f-g-h-i-j-k-l-m-n-o-p-q-r-s-t-u-v-w--------\n",
      "------w-v-u-t-s-r-q-p-o-n-m-l-k-j-i-h-g-f-e-d-e-f-g-h-i-j-k-l-m-n-o-p-q-r-s-t-u-v-w------\n",
      "----w-v-u-t-s-r-q-p-o-n-m-l-k-j-i-h-g-f-e-d-c-d-e-f-g-h-i-j-k-l-m-n-o-p-q-r-s-t-u-v-w----\n",
      "--w-v-u-t-s-r-q-p-o-n-m-l-k-j-i-h-g-f-e-d-c-b-c-d-e-f-g-h-i-j-k-l-m-n-o-p-q-r-s-t-u-v-w--\n",
      "w-v-u-t-s-r-q-p-o-n-m-l-k-j-i-h-g-f-e-d-c-b-a-b-c-d-e-f-g-h-i-j-k-l-m-n-o-p-q-r-s-t-u-v-w\n",
      "--w-v-u-t-s-r-q-p-o-n-m-l-k-j-i-h-g-f-e-d-c-b-c-d-e-f-g-h-i-j-k-l-m-n-o-p-q-r-s-t-u-v-w--\n",
      "----w-v-u-t-s-r-q-p-o-n-m-l-k-j-i-h-g-f-e-d-c-d-e-f-g-h-i-j-k-l-m-n-o-p-q-r-s-t-u-v-w----\n",
      "------w-v-u-t-s-r-q-p-o-n-m-l-k-j-i-h-g-f-e-d-e-f-g-h-i-j-k-l-m-n-o-p-q-r-s-t-u-v-w------\n",
      "--------w-v-u-t-s-r-q-p-o-n-m-l-k-j-i-h-g-f-e-f-g-h-i-j-k-l-m-n-o-p-q-r-s-t-u-v-w--------\n",
      "----------w-v-u-t-s-r-q-p-o-n-m-l-k-j-i-h-g-f-g-h-i-j-k-l-m-n-o-p-q-r-s-t-u-v-w----------\n",
      "------------w-v-u-t-s-r-q-p-o-n-m-l-k-j-i-h-g-h-i-j-k-l-m-n-o-p-q-r-s-t-u-v-w------------\n",
      "--------------w-v-u-t-s-r-q-p-o-n-m-l-k-j-i-h-i-j-k-l-m-n-o-p-q-r-s-t-u-v-w--------------\n",
      "----------------w-v-u-t-s-r-q-p-o-n-m-l-k-j-i-j-k-l-m-n-o-p-q-r-s-t-u-v-w----------------\n",
      "------------------w-v-u-t-s-r-q-p-o-n-m-l-k-j-k-l-m-n-o-p-q-r-s-t-u-v-w------------------\n",
      "--------------------w-v-u-t-s-r-q-p-o-n-m-l-k-l-m-n-o-p-q-r-s-t-u-v-w--------------------\n",
      "----------------------w-v-u-t-s-r-q-p-o-n-m-l-m-n-o-p-q-r-s-t-u-v-w----------------------\n",
      "------------------------w-v-u-t-s-r-q-p-o-n-m-n-o-p-q-r-s-t-u-v-w------------------------\n",
      "--------------------------w-v-u-t-s-r-q-p-o-n-o-p-q-r-s-t-u-v-w--------------------------\n",
      "----------------------------w-v-u-t-s-r-q-p-o-p-q-r-s-t-u-v-w----------------------------\n",
      "------------------------------w-v-u-t-s-r-q-p-q-r-s-t-u-v-w------------------------------\n",
      "--------------------------------w-v-u-t-s-r-q-r-s-t-u-v-w--------------------------------\n",
      "----------------------------------w-v-u-t-s-r-s-t-u-v-w----------------------------------\n",
      "------------------------------------w-v-u-t-s-t-u-v-w------------------------------------\n",
      "--------------------------------------w-v-u-t-u-v-w--------------------------------------\n",
      "----------------------------------------w-v-u-v-w----------------------------------------\n",
      "------------------------------------------w-v-w------------------------------------------\n",
      "--------------------------------------------w--------------------------------------------\n"
     ]
    }
   ],
   "source": [
    "import string\n",
    "\n",
    "size = 23\n",
    "\n",
    "def alphabetRangoli(n):\n",
    "    alpha = string.ascii_lowercase   \n",
    "    L = []\n",
    "    for i in range(n):\n",
    "        s = \"-\".join(alpha[i:n])\n",
    "        L.append((s[::-1]+s[1:]).center(4*n-3, \"-\"))\n",
    "    print('\\n'.join(L[:0:-1]+L))\n",
    "\n",
    "\n",
    "\n",
    "alphabetRangoli(size)"
   ]
  },
  {
   "cell_type": "code",
   "execution_count": null,
   "metadata": {},
   "outputs": [],
   "source": []
  }
 ],
 "metadata": {
  "kernelspec": {
   "display_name": "Python 3",
   "language": "python",
   "name": "python3"
  },
  "language_info": {
   "codemirror_mode": {
    "name": "ipython",
    "version": 3
   },
   "file_extension": ".py",
   "mimetype": "text/x-python",
   "name": "python",
   "nbconvert_exporter": "python",
   "pygments_lexer": "ipython3",
   "version": "3.6.7"
  }
 },
 "nbformat": 4,
 "nbformat_minor": 2
}
