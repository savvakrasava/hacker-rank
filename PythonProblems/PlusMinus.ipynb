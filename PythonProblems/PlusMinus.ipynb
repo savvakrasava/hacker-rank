{
 "cells": [
  {
   "cell_type": "code",
   "execution_count": 2,
   "metadata": {},
   "outputs": [
    {
     "name": "stdout",
     "output_type": "stream",
     "text": [
      "0.5\n",
      "0.333333\n",
      "0.166667\n"
     ]
    }
   ],
   "source": [
    "#!/bin/python3\n",
    "\n",
    "import math\n",
    "import os\n",
    "import random\n",
    "import re\n",
    "import sys\n",
    "\n",
    "# Complete the plusMinus function below.\n",
    "def plusMinus(arr):\n",
    "\n",
    "    countPositive = 0\n",
    "    countNegative = 0\n",
    "    countZeros = 0\n",
    "    j = int(len(arr))\n",
    "    bla = len(arr)\n",
    "   \n",
    "    while j > 0:\n",
    "        for i in range(len(arr)):\n",
    "            if arr[i]>0:\n",
    "                countPositive += 1\n",
    "            elif arr[i]<0:\n",
    "                countNegative += 1\n",
    "            else:\n",
    "                countZeros +=1\n",
    "            j-=1\n",
    "    #sys.stdout.write(countPositive/bla, countNegative/bla, countZeros/bla)\n",
    "    ##print(countPositive)\n",
    "    #print(countNegative/bla)\n",
    "    #print(countZeros/bla)\n",
    "    \n",
    "    return str(round((countPositive/bla),6))+'\\n'+str(round((countNegative/bla),6))+'\\n'+str(round((countZeros/bla),6))\n",
    "\n",
    "# if __name__ == '__main__':\n",
    "#     n = int(input())\n",
    "\n",
    "#     arr = list(map(int, input().rstrip().split()))\n",
    "\n",
    "\n",
    "arr=[-4, 3, -9, 0, 4, 1]\n",
    "\n",
    "print(plusMinus(arr))\n"
   ]
  },
  {
   "cell_type": "code",
   "execution_count": null,
   "metadata": {},
   "outputs": [],
   "source": []
  }
 ],
 "metadata": {
  "kernelspec": {
   "display_name": "Python 3",
   "language": "python",
   "name": "python3"
  },
  "language_info": {
   "codemirror_mode": {
    "name": "ipython",
    "version": 3
   },
   "file_extension": ".py",
   "mimetype": "text/x-python",
   "name": "python",
   "nbconvert_exporter": "python",
   "pygments_lexer": "ipython3",
   "version": "3.6.7"
  }
 },
 "nbformat": 4,
 "nbformat_minor": 2
}
