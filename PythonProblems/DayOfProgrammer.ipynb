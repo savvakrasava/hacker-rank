{
 "cells": [
  {
   "cell_type": "code",
   "execution_count": 2,
   "metadata": {},
   "outputs": [
    {
     "data": {
      "text/plain": [
       "'12.09.1800'"
      ]
     },
     "execution_count": 2,
     "metadata": {},
     "output_type": "execute_result"
    }
   ],
   "source": [
    "#!/bin/python3\n",
    "\n",
    "import math\n",
    "import os\n",
    "import random\n",
    "import re\n",
    "import sys\n",
    "\n",
    "def isLeap(year):\n",
    "    if year%4 == 0:\n",
    "        if year%100 == 0 and year%400 != 0:\n",
    "            return False\n",
    "        else:\n",
    "            return True\n",
    "\n",
    "def dayOfProgrammer(year):\n",
    "    if 1700>year or year>2700:\n",
    "        return None\n",
    "    elif year == 1918:\n",
    "        return '26.09.1918'\n",
    "    elif year < 1919: #old russian's calendar\n",
    "        if year%4 == 0:\n",
    "            return '12.09.'+str(year)#day of programmer in LEAP year\n",
    "        else:\n",
    "            return '13.09.'+str(year)#simple day of programmer (256th day in a year)\n",
    "    else:\n",
    "        if isLeap(year)==True:\n",
    "            return '12.09.'+str(year)\n",
    "        else:\n",
    "            return '13.09.'+str(year)\n",
    "    \n",
    "\n",
    "# if __name__ == '__main__':\n",
    "#     fptr = open(os.environ['OUTPUT_PATH'], 'w')\n",
    "\n",
    "#     year = int(input().strip())\n",
    "\n",
    "#     result = dayOfProgrammer(year)\n",
    "\n",
    "#     fptr.write(result + '\\n')\n",
    "\n",
    "#     fptr.close()\n",
    "\n",
    "\n",
    "\n",
    "year = 1800 #2016 , 1800, 1918!!!\n",
    "\n",
    "dayOfProgrammer(year)"
   ]
  },
  {
   "cell_type": "code",
   "execution_count": 3,
   "metadata": {},
   "outputs": [
    {
     "data": {
      "text/plain": [
       "'12.09.1800'"
      ]
     },
     "execution_count": 3,
     "metadata": {},
     "output_type": "execute_result"
    }
   ],
   "source": [
    "def dayOfProgrammer1(year):\n",
    "    if year == 1918:\n",
    "        return \"26.09.1918\"\n",
    "    if year % 4 == 0 and (year < 1918 or year % 400 == 0 or year % 100 != 0):\n",
    "        return \"12.09.%s\" % year\n",
    "    return \"13.09.%s\" % year\n",
    "\n",
    "\n",
    "dayOfProgrammer1(year)"
   ]
  },
  {
   "cell_type": "code",
   "execution_count": null,
   "metadata": {},
   "outputs": [],
   "source": []
  }
 ],
 "metadata": {
  "kernelspec": {
   "display_name": "Python 3",
   "language": "python",
   "name": "python3"
  },
  "language_info": {
   "codemirror_mode": {
    "name": "ipython",
    "version": 3
   },
   "file_extension": ".py",
   "mimetype": "text/x-python",
   "name": "python",
   "nbconvert_exporter": "python",
   "pygments_lexer": "ipython3",
   "version": "3.6.7"
  }
 },
 "nbformat": 4,
 "nbformat_minor": 2
}
