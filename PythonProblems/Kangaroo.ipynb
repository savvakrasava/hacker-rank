{
 "cells": [
  {
   "cell_type": "code",
   "execution_count": 1,
   "metadata": {},
   "outputs": [
    {
     "data": {
      "text/plain": [
       "'YES'"
      ]
     },
     "execution_count": 1,
     "metadata": {},
     "output_type": "execute_result"
    }
   ],
   "source": [
    "#!/bin/python3\n",
    "\n",
    "import math\n",
    "import os\n",
    "import random\n",
    "import re\n",
    "import sys\n",
    "\n",
    "# Complete the kangaroo function below.\n",
    "def kangaroo(x1, v1, x2, v2):\n",
    "    if (x1<x2 and v1>v2) or (x1>x2 and v1<v2):\n",
    "        if abs(x1-x2)%abs(v1-v2)==0:\n",
    "            return 'YES'\n",
    "        else:\n",
    "            return 'NO'\n",
    "    else:\n",
    "        return 'NO'\n",
    "\n",
    "# if __name__ == '__main__':\n",
    "#     fptr = open(os.environ['OUTPUT_PATH'], 'w')\n",
    "\n",
    "#     x1V1X2V2 = input().split()\n",
    "\n",
    "#     x1 = int(x1V1X2V2[0])\n",
    "\n",
    "#     v1 = int(x1V1X2V2[1])\n",
    "\n",
    "#     x2 = int(x1V1X2V2[2])\n",
    "\n",
    "#     v2 = int(x1V1X2V2[3])\n",
    "\n",
    "#     result = kangaroo(x1, v1, x2, v2)\n",
    "\n",
    "#     fptr.write(result + '\\n')\n",
    "\n",
    "#     fptr.close()\n",
    "\n",
    "x1 = 0\n",
    "v1 = 3\n",
    "x2 = 4\n",
    "v2 = 2\n",
    "\n",
    "\n",
    "kangaroo(x1, v1, x2, v2)"
   ]
  },
  {
   "cell_type": "code",
   "execution_count": null,
   "metadata": {},
   "outputs": [],
   "source": []
  }
 ],
 "metadata": {
  "kernelspec": {
   "display_name": "Python 3",
   "language": "python",
   "name": "python3"
  },
  "language_info": {
   "codemirror_mode": {
    "name": "ipython",
    "version": 3
   },
   "file_extension": ".py",
   "mimetype": "text/x-python",
   "name": "python",
   "nbconvert_exporter": "python",
   "pygments_lexer": "ipython3",
   "version": "3.6.7"
  }
 },
 "nbformat": 4,
 "nbformat_minor": 2
}
