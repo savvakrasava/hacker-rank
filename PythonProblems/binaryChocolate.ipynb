{
 "cells": [
  {
   "cell_type": "code",
   "execution_count": 1,
   "metadata": {},
   "outputs": [
    {
     "data": {
      "text/plain": [
       "2"
      ]
     },
     "execution_count": 1,
     "metadata": {},
     "output_type": "execute_result"
    }
   ],
   "source": [
    "#!/bin/python3\n",
    "\n",
    "import math\n",
    "import os\n",
    "import random\n",
    "import re\n",
    "import sys\n",
    "\n",
    "# Complete the birthday function below.\n",
    "\n",
    "def birthday(s, d, m):\n",
    "    count = 0\n",
    "    for i in range(len(s)-m+1):\n",
    "        if(sum(s[i:m+i])==d):\n",
    "             count = count + 1\n",
    "    return count\n",
    "\n",
    "# if __name__ == '__main__':\n",
    "#     fptr = open(os.environ['OUTPUT_PATH'], 'w')\n",
    "\n",
    "#     n = int(input().strip())\n",
    "\n",
    "#     s = list(map(int, input().rstrip().split()))\n",
    "\n",
    "#     dm = input().rstrip().split()\n",
    "\n",
    "#     d = int(dm[0])\n",
    "\n",
    "#     m = int(dm[1])\n",
    "\n",
    "#     result = birthday(s, d, m)\n",
    "\n",
    "#     fptr.write(str(result) + '\\n')\n",
    "\n",
    "#     fptr.close()\n",
    "\n",
    "\n",
    "n = 5\n",
    "s =[1, 2, 1, 3, 2]\n",
    "d = 3 \n",
    "m = 2\n",
    "\n",
    "\n",
    "birthday(s, d, m)"
   ]
  },
  {
   "cell_type": "code",
   "execution_count": null,
   "metadata": {},
   "outputs": [],
   "source": []
  }
 ],
 "metadata": {
  "kernelspec": {
   "display_name": "Python 3",
   "language": "python",
   "name": "python3"
  },
  "language_info": {
   "codemirror_mode": {
    "name": "ipython",
    "version": 3
   },
   "file_extension": ".py",
   "mimetype": "text/x-python",
   "name": "python",
   "nbconvert_exporter": "python",
   "pygments_lexer": "ipython3",
   "version": "3.6.7"
  }
 },
 "nbformat": 4,
 "nbformat_minor": 2
}
