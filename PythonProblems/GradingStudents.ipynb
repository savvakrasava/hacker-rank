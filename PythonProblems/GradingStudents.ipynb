{
 "cells": [
  {
   "cell_type": "code",
   "execution_count": 2,
   "metadata": {},
   "outputs": [
    {
     "data": {
      "text/plain": [
       "[75, 67, 40, 33]"
      ]
     },
     "execution_count": 2,
     "metadata": {},
     "output_type": "execute_result"
    }
   ],
   "source": [
    "#!/bin/python3\n",
    "\n",
    "import os\n",
    "import sys\n",
    "\n",
    "#\n",
    "# Complete the gradingStudents function below.\n",
    "#\n",
    "def gradingStudents(array):\n",
    "    \n",
    "    final_array = []\n",
    "    \n",
    "    for i in range(len(array)):\n",
    "        if array[i] < 38:\n",
    "            score = array[i]\n",
    "            final_array.append(score)\n",
    "        elif array[i]%5 >= 3:\n",
    "            score = array[i]+(5-array[i]%5)\n",
    "            final_array.append(score)\n",
    "        elif array[i]%5 < 3:\n",
    "            score = array[i]\n",
    "            final_array.append(score)            \n",
    "        #\n",
    "        # Write your code here.\n",
    "        #\n",
    "    return (final_array)\n",
    "\n",
    "# if __name__ == '__main__':\n",
    "#     f = open(os.environ['OUTPUT_PATH'], 'w')\n",
    "\n",
    "#     n = int(input())\n",
    "\n",
    "#     grades = []\n",
    "\n",
    "#     for _ in range(n):\n",
    "#         grades_item = int(input())\n",
    "#         grades.append(grades_item)\n",
    "\n",
    "#     result = gradingStudents(grades)\n",
    "\n",
    "#     f.write('\\n'.join(map(str, result)))\n",
    "#     f.write('\\n')\n",
    "\n",
    "#     f.close()\n",
    "\n",
    "arr = [73,67,38,33]\n",
    "\n",
    "gradingStudents(arr)"
   ]
  },
  {
   "cell_type": "code",
   "execution_count": null,
   "metadata": {},
   "outputs": [],
   "source": []
  }
 ],
 "metadata": {
  "kernelspec": {
   "display_name": "Python 3",
   "language": "python",
   "name": "python3"
  },
  "language_info": {
   "codemirror_mode": {
    "name": "ipython",
    "version": 3
   },
   "file_extension": ".py",
   "mimetype": "text/x-python",
   "name": "python",
   "nbconvert_exporter": "python",
   "pygments_lexer": "ipython3",
   "version": "3.6.7"
  }
 },
 "nbformat": 4,
 "nbformat_minor": 2
}
