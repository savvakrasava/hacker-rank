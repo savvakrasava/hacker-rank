{
 "cells": [
  {
   "cell_type": "code",
   "execution_count": 1,
   "metadata": {},
   "outputs": [
    {
     "name": "stdout",
     "output_type": "stream",
     "text": [
      "1\n",
      "1\n"
     ]
    }
   ],
   "source": [
    "#!/bin/python3\n",
    "\n",
    "import math\n",
    "import os\n",
    "import random\n",
    "import re\n",
    "import sys\n",
    "\n",
    "# Complete the countApplesAndOranges function below.\n",
    "def countApplesAndOranges(s, t, a, b, apples, oranges):\n",
    "    print(sum(s <= a + d <= t for d in apples))\n",
    "    print(sum(s <= b + d <= t for d in oranges))\n",
    "    \n",
    "\n",
    "# if __name__ == '__main__':\n",
    "#     st = input().split()\n",
    "\n",
    "#     s = int(st[0])\n",
    "\n",
    "#     t = int(st[1])\n",
    "\n",
    "#     ab = input().split()\n",
    "\n",
    "#     a = int(ab[0])\n",
    "\n",
    "#     b = int(ab[1])\n",
    "\n",
    "#     mn = input().split()\n",
    "\n",
    "#     m = int(mn[0])\n",
    "\n",
    "#     n = int(mn[1])\n",
    "\n",
    "#     apples = list(map(int, input().rstrip().split()))\n",
    "\n",
    "#     oranges = list(map(int, input().rstrip().split()))\n",
    "\n",
    "# 7 11\n",
    "# 5 15\n",
    "# 3 2\n",
    "# -2 2 1\n",
    "# 5 -6\n",
    "s =5\n",
    "t =15\n",
    "a = 3\n",
    "b = 2\n",
    "apples = [-2,2,1]\n",
    "oranges = [5,-6]\n",
    "\n",
    "countApplesAndOranges(s, t, a, b, apples, oranges)\n"
   ]
  },
  {
   "cell_type": "code",
   "execution_count": 2,
   "metadata": {},
   "outputs": [
    {
     "name": "stdout",
     "output_type": "stream",
     "text": [
      "1\n",
      "1\n"
     ]
    }
   ],
   "source": [
    "s = 7 #start point (house)\n",
    "t = 11 #end point (house)\n",
    "a = 5  #apple tree\n",
    "b = 15 #orange tree\n",
    "apples = [-2, 2, 1]\n",
    "oranges = [5, -6]\n",
    "\n",
    "def countApplesAndOranges(s, t, a, b, apples, oranges):\n",
    "    apples_arr = []\n",
    "    oranges_arr = []\n",
    "    #count_apples = 0\n",
    "    #count_oranges = 0\n",
    "    count_arr = [0,0]\n",
    "    house_arr = list(range(s, t))\n",
    "    \n",
    "    for item in range(len(apples)):\n",
    "        apple_point = apples[item]+a\n",
    "        apples_arr.append(apple_point)\n",
    "    for item in range(len(oranges)):\n",
    "        orange_point = oranges[item]+a\n",
    "        oranges_arr.append(orange_point)\n",
    "    \n",
    "    for apple in range(len(apples_arr)):\n",
    "        if apples_arr[apple] in house_arr:\n",
    "            count_arr[0] += 1\n",
    "    for orange in range(len(oranges_arr)):\n",
    "        if oranges_arr[orange] in house_arr:\n",
    "            count_arr[1] += 1\n",
    "    print ('\\n'.join([ str(i) for i in count_arr ]))\n",
    "    #return str(count_arr).split(',')\n",
    "\n",
    "\n",
    "countApplesAndOranges(s, t, a, b, apples, oranges)"
   ]
  },
  {
   "cell_type": "code",
   "execution_count": 3,
   "metadata": {},
   "outputs": [
    {
     "name": "stdout",
     "output_type": "stream",
     "text": [
      "apples: 3\n",
      "apples: 7\n",
      "apples: 6\n",
      "oranges: 20\n",
      "oranges: 9\n",
      "1\n",
      "1\n"
     ]
    }
   ],
   "source": [
    "def countApplesAndOranges(s, t, a, b, apples, oranges):\n",
    "    apples_arr = []\n",
    "    oranges_arr = []\n",
    "    count_arr = [0,0]\n",
    "    house_arr = list(range(s, t))\n",
    "    \n",
    "    for apple in range(len(apples)):\n",
    "        print('apples: '+ str(apples[apple]+a))\n",
    "        if apples[apple]+a in house_arr:\n",
    "            count_arr[0] += 1\n",
    "    for orange in range(len(oranges)):\n",
    "        print('oranges: '+ str(oranges[orange]+b))\n",
    "        if oranges[orange]+b in house_arr:\n",
    "            count_arr[1] += 1\n",
    "    print ('\\n'.join([ str(i) for i in count_arr ]))\n",
    "\n",
    "countApplesAndOranges(s, t, a, b, apples, oranges)"
   ]
  },
  {
   "cell_type": "code",
   "execution_count": null,
   "metadata": {},
   "outputs": [],
   "source": []
  }
 ],
 "metadata": {
  "kernelspec": {
   "display_name": "Python 3",
   "language": "python",
   "name": "python3"
  },
  "language_info": {
   "codemirror_mode": {
    "name": "ipython",
    "version": 3
   },
   "file_extension": ".py",
   "mimetype": "text/x-python",
   "name": "python",
   "nbconvert_exporter": "python",
   "pygments_lexer": "ipython3",
   "version": "3.6.7"
  }
 },
 "nbformat": 4,
 "nbformat_minor": 2
}
