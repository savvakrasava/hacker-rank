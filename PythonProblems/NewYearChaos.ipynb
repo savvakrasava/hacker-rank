{
 "cells": [
  {
   "cell_type": "code",
   "execution_count": 3,
   "metadata": {},
   "outputs": [
    {
     "data": {
      "text/plain": [
       "([[2, 1, 5, 3, 4], [2, 5, 1, 3, 4]], 2)"
      ]
     },
     "execution_count": 3,
     "metadata": {},
     "output_type": "execute_result"
    }
   ],
   "source": [
    "#!/bin/python3\n",
    "\n",
    "import math\n",
    "import os\n",
    "import random\n",
    "import re\n",
    "import sys\n",
    "\n",
    "# Complete the minimumBribes function below.\n",
    "def minimumBribes(array, n):\n",
    "    return array, n\n",
    "\n",
    "# if __name__ == '__main__':\n",
    "#     t = int(input())\n",
    "\n",
    "#     for t_itr in range(t):\n",
    "#         n = int(input())\n",
    "\n",
    "#         q = list(map(int, input().rstrip().split()))\n",
    "\n",
    "\n",
    "q = [[2, 1, 5, 3, 4],\n",
    "[2, 5, 1, 3, 4]]\n",
    "\n",
    "n = 2\n",
    "\n",
    "minimumBribes(q,n)\n"
   ]
  },
  {
   "cell_type": "code",
   "execution_count": null,
   "metadata": {},
   "outputs": [],
   "source": []
  }
 ],
 "metadata": {
  "kernelspec": {
   "display_name": "Python 3",
   "language": "python",
   "name": "python3"
  },
  "language_info": {
   "codemirror_mode": {
    "name": "ipython",
    "version": 3
   },
   "file_extension": ".py",
   "mimetype": "text/x-python",
   "name": "python",
   "nbconvert_exporter": "python",
   "pygments_lexer": "ipython3",
   "version": "3.6.7"
  }
 },
 "nbformat": 4,
 "nbformat_minor": 2
}
