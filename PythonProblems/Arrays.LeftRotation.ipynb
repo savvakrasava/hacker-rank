{
 "cells": [
  {
   "cell_type": "code",
   "execution_count": 38,
   "metadata": {},
   "outputs": [
    {
     "data": {
      "text/plain": [
       "[5, 1, 2, 3, 4]"
      ]
     },
     "execution_count": 38,
     "metadata": {},
     "output_type": "execute_result"
    }
   ],
   "source": [
    "#!/bin/python3\n",
    "\n",
    "import math\n",
    "import os\n",
    "import random\n",
    "import re\n",
    "import sys\n",
    "\n",
    "# Complete the rotLeft function below.\n",
    "def rotLeft(array , n, d):\n",
    "    if d%n == 0:\n",
    "        return array\n",
    "    else:\n",
    "        for count in range(d):\n",
    "            array.append(a[0])\n",
    "            array.pop(0)\n",
    "        return array\n",
    "\n",
    "# if __name__ == '__main__':\n",
    "#     fptr = open(os.environ['OUTPUT_PATH'], 'w')\n",
    "\n",
    "#     nd = input().split()\n",
    "\n",
    "#     n = int(nd[0])\n",
    "\n",
    "#     d = int(nd[1])\n",
    "\n",
    "#     a = list(map(int, input().rstrip().split()))\n",
    "\n",
    "#     result = rotLeft(a, d)\n",
    "\n",
    "#     fptr.write(' '.join(map(str, result)))\n",
    "#     fptr.write('\\n')\n",
    "\n",
    "#     fptr.close()\n",
    "\n",
    "    \n",
    "n = 5\n",
    "d = 4\n",
    "a = [1, 2, 3, 4, 5]\n",
    "\n",
    "rotLeft(a,n,d)"
   ]
  },
  {
   "cell_type": "code",
   "execution_count": null,
   "metadata": {},
   "outputs": [],
   "source": []
  },
  {
   "cell_type": "code",
   "execution_count": null,
   "metadata": {},
   "outputs": [],
   "source": []
  },
  {
   "cell_type": "code",
   "execution_count": null,
   "metadata": {},
   "outputs": [],
   "source": []
  },
  {
   "cell_type": "code",
   "execution_count": null,
   "metadata": {},
   "outputs": [],
   "source": []
  },
  {
   "cell_type": "code",
   "execution_count": null,
   "metadata": {},
   "outputs": [],
   "source": []
  },
  {
   "cell_type": "code",
   "execution_count": null,
   "metadata": {},
   "outputs": [],
   "source": []
  }
 ],
 "metadata": {
  "kernelspec": {
   "display_name": "Python 3",
   "language": "python",
   "name": "python3"
  },
  "language_info": {
   "codemirror_mode": {
    "name": "ipython",
    "version": 3
   },
   "file_extension": ".py",
   "mimetype": "text/x-python",
   "name": "python",
   "nbconvert_exporter": "python",
   "pygments_lexer": "ipython3",
   "version": "3.6.7"
  }
 },
 "nbformat": 4,
 "nbformat_minor": 2
}
