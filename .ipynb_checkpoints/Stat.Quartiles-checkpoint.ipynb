{
 "cells": [
  {
   "cell_type": "code",
   "execution_count": 3,
   "metadata": {},
   "outputs": [],
   "source": [
    "def findLightMedian(array):\n",
    "    mid = int(len(array)/2)\n",
    "    #array = sorted(array)\n",
    "    if len(array)%2 != 0:\n",
    "        median = array[mid]\n",
    "    else:\n",
    "        median = (array[mid]+array[mid-1])/2\n",
    "    return median\n",
    "\n",
    "def findQuartiles(array):    \n",
    "    \n",
    "    array = sorted(array)\n",
    "    mid = int(len(array)/2)\n",
    "    \n",
    "    if len(array)%2 != 0:\n",
    "        firstQuart = findLightMedian(array[0:mid])\n",
    "        secondQuart = array[mid]\n",
    "        thirdQuart = findLightMedian(array[mid+1::])\n",
    "        return (str(int(firstQuart))+'\\n'+str(int(secondQuart))+'\\n'+str(int(thirdQuart)))\n",
    "    else:\n",
    "        firstQuart = findLightMedian(array[0:mid])\n",
    "        secondQuart = findLightMedian(array)\n",
    "        thirdQuart = findLightMedian(array[mid::])\n",
    "        return (str(int(firstQuart))+'\\n'+str(int(secondQuart))+'\\n'+str(int(thirdQuart)))\n",
    "        \n"
   ]
  },
  {
   "cell_type": "code",
   "execution_count": 4,
   "metadata": {},
   "outputs": [
    {
     "name": "stdout",
     "output_type": "stream",
     "text": [
      "2\n",
      "4\n",
      "4\n",
      "11\n",
      "16\n",
      "22\n"
     ]
    }
   ],
   "source": [
    "l = [4,4,4,5,2,2,2]\n",
    "a = [11,11,22,22]\n",
    "\n",
    "print(findQuartiles(l))\n",
    "print(findQuartiles(a))"
   ]
  },
  {
   "cell_type": "code",
   "execution_count": null,
   "metadata": {},
   "outputs": [],
   "source": []
  }
 ],
 "metadata": {
  "kernelspec": {
   "display_name": "Python 3",
   "language": "python",
   "name": "python3"
  },
  "language_info": {
   "codemirror_mode": {
    "name": "ipython",
    "version": 3
   },
   "file_extension": ".py",
   "mimetype": "text/x-python",
   "name": "python",
   "nbconvert_exporter": "python",
   "pygments_lexer": "ipython3",
   "version": "3.6.7"
  }
 },
 "nbformat": 4,
 "nbformat_minor": 2
}
